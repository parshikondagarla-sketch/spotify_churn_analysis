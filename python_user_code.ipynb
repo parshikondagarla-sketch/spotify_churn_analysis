{
  "nbformat": 4,
  "nbformat_minor": 0,
  "metadata": {
    "colab": {
      "provenance": []
    },
    "kernelspec": {
      "name": "python3",
      "display_name": "Python 3"
    },
    "language_info": {
      "name": "python"
    }
  },
  "cells": [
    {
      "cell_type": "code",
      "execution_count": 2,
      "metadata": {
        "colab": {
          "base_uri": "https://localhost:8080/"
        },
        "id": "lL1KzsLtw3wk",
        "outputId": "34f9f371-61a0-4b79-9c55-9a504711cd5d"
      },
      "outputs": [
        {
          "output_type": "stream",
          "name": "stdout",
          "text": [
            "Collecting faker\n",
            "  Downloading faker-37.5.3-py3-none-any.whl.metadata (15 kB)\n",
            "Requirement already satisfied: tzdata in /usr/local/lib/python3.11/dist-packages (from faker) (2025.2)\n",
            "Downloading faker-37.5.3-py3-none-any.whl (1.9 MB)\n",
            "\u001b[2K   \u001b[90m━━━━━━━━━━━━━━━━━━━━━━━━━━━━━━━━━━━━━━━━\u001b[0m \u001b[32m1.9/1.9 MB\u001b[0m \u001b[31m19.4 MB/s\u001b[0m eta \u001b[36m0:00:00\u001b[0m\n",
            "\u001b[?25hInstalling collected packages: faker\n",
            "Successfully installed faker-37.5.3\n",
            "Fake Spotify data generated and saved as 'spotify_fake_data.csv'!\n"
          ]
        }
      ],
      "source": [
        "! pip install faker\n",
        "import pandas as pd\n",
        "import numpy as np\n",
        "from faker import Faker\n",
        "\n",
        "# Generate fake Spotify user data\n",
        "fake = Faker()\n",
        "np.random.seed(42)  # For reproducibility\n",
        "\n",
        "data = {\n",
        "    'user_id': [fake.uuid4() for _ in range(1000)],  # Random IDs\n",
        "    'subscription_type': np.random.choice(['free', 'premium'], 1000, p=[0.6, 0.4]),  # 70% free users\n",
        "    'days_active_last_month': np.random.randint(1, 31, 1000),  # Days used (1-30)\n",
        "    'playlists_created': np.random.randint(0, 10, 1000),  # Playlists made (0-9)\n",
        "    'artists_followed': np.random.randint(0, 20, 1000),  # Artists followed (0-19)\n",
        "    'songs_liked': np.random.randint(0, 50, 1000),  # Songs liked (0-49)\n",
        "    'churned': np.random.choice([0, 1], 1000, p=[0.6, 0.4])  # 40% churn rate (1=churned)\n",
        "}\n",
        "\n",
        "df = pd.DataFrame(data)\n",
        "\n",
        "# Save to CSV\n",
        "df.to_csv('spotify_fake_data.csv', index=False)\n",
        "print(\"Fake Spotify data generated and saved as 'spotify_fake_data.csv'!\")"
      ]
    },
    {
      "cell_type": "code",
      "source": [
        "from google.colab import drive\n",
        "drive.mount('/content/drive')"
      ],
      "metadata": {
        "id": "ai5g3zrF3JIe"
      },
      "execution_count": null,
      "outputs": []
    },
    {
      "cell_type": "code",
      "source": [],
      "metadata": {
        "id": "SRlCsDgb3TJh"
      },
      "execution_count": null,
      "outputs": []
    },
    {
      "cell_type": "code",
      "source": [],
      "metadata": {
        "id": "pvk5C8Mo3UMv"
      },
      "execution_count": null,
      "outputs": []
    }
  ]
}